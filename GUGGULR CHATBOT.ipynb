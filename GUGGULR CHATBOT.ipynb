{
 "cells": [
  {
   "cell_type": "code",
   "execution_count": 63,
   "id": "fae110f3-1a85-460d-87db-1fad83ceae0a",
   "metadata": {},
   "outputs": [],
   "source": [
    "from sklearn.feature_extraction.text import TfidfVectorizer\n",
    "from sklearn.linear_model import LogisticRegression\n",
    "\n",
    "# Define intents and replies\n",
    "intents = {\n",
    "    \"hi\": \"Hello! How can I help you?\",\n",
    "    \"help\": \"You can ask me about services, support, or anything else.\",\n",
    "    \"thanks\": \"You're welcome!\",\n",
    "    \"bye\": \"Goodbye! Have a great day!\",\n",
    "    \"name\": \"I'm assistant chatbot.\",\n",
    "    \"order details\":\"an item I ordered\",\n",
    "    \"delivery\":\"product not delivered\",\n",
    "    \"quality\":\"product is in poor quality\",\n",
    "    \"package\":\"Package got tampered issue\",\n",
    "    \"cancellation\":\"cancel the order\",\n",
    "    \"agent\":\"want to call delivery agent\",\n",
    "    \"modify\":\"modify items in the order\",\n",
    "    \n",
    "    \n",
    "}\n",
    "\n",
    "# Train intent model\n",
    "X, y = list(intents.keys()), list(intents.keys())\n",
    "vec = TfidfVectorizer()\n",
    "X_vec = vec.fit_transform(X)\n",
    "model = LogisticRegression().fit(X_vec, y)\n",
    "\n",
    "def get_response(msg):\n",
    "    x = vec.transform([msg])\n",
    "    pred = model.predict(x)[0]\n",
    "    return intents[pred]\n"
   ]
  },
  {
   "cell_type": "code",
   "execution_count": 65,
   "id": "73c31049-25c7-44b7-bc34-9419b6525efa",
   "metadata": {},
   "outputs": [
    {
     "data": {
      "application/vnd.jupyter.widget-view+json": {
       "model_id": "1d56d29a47084a75b150fc1018b8527b",
       "version_major": 2,
       "version_minor": 0
      },
      "text/plain": [
       "HTML(value='<h3>🧠 Guggulr Assistant Chatbot</h3>')"
      ]
     },
     "metadata": {},
     "output_type": "display_data"
    },
    {
     "name": "stdout",
     "output_type": "stream",
     "text": [
      "🤖 Hi, thanks for contacting Guggulr.\n",
      "I'm Guggulr's messaging assistant.\n",
      "I'm here to answer your questions and get the right person to help you out.\n",
      "So,what can i help you with?\n",
      "\n"
     ]
    },
    {
     "data": {
      "application/vnd.jupyter.widget-view+json": {
       "model_id": "28791a601b064dc9bc5aee0b983b7fbb",
       "version_major": 2,
       "version_minor": 0
      },
      "text/plain": [
       "VBox(children=(HTML(value=\"<h2 style='color:darkblue;'>💬 Chatbox</h2>\"), Output(layout=Layout(border_bottom='1…"
      ]
     },
     "metadata": {},
     "output_type": "display_data"
    }
   ],
   "source": [
    "import ipywidgets as widgets\n",
    "from IPython.display import display, clear_output\n",
    "\n",
    "display(widgets.HTML(\"<h3>🧠 Guggulr Assistant Chatbot</h3>\"))\n",
    "\n",
    "# Chat loop\n",
    "print(\"🤖 Hi, thanks for contacting Guggulr.\\n\"\n",
    "      \"I'm Guggulr's messaging assistant.\\n\"\n",
    "      \"I'm here to answer your questions and get the right person to help you out.\\n\"\n",
    "      \"So,what can i help you with?\\n\")\n",
    "\n",
    "# Chat display box\n",
    "chat_output = widgets.Output(layout={'border': '1px solid gray', 'height': '400px', 'overflow_y': 'auto'})\n",
    "\n",
    "# Predefined buttons\n",
    "labels = [ \"name\", \"order details\", \"delivery\",\"quality\",\"package\",\"cancellation\",\"agent\",\"modify\"]\n",
    "buttons = [widgets.Button(description=label.capitalize(), layout=widgets.Layout(width='100px')) for label in labels]\n",
    "\n",
    "# Text input and submit button\n",
    "text_input = widgets.Text(placeholder=\"Type your message...\")\n",
    "submit_button = widgets.Button(description=\"Submit\", button_style='success')\n",
    "\n",
    "# Clear button\n",
    "clear_button = widgets.Button(description=\"Clear Chat\", button_style='danger')\n",
    "\n",
    "# Response logic\n",
    "def get_response(msg):\n",
    "    responses = {\n",
    "        \"hi\": \"Hello! How can I assist you today?\",\n",
    "        \"help\": \"Sure! You can ask me anything or use the buttons.\",\n",
    "        \"thanks\": \"You're welcome!\",\n",
    "        \"bye\": \"Goodbye! Have a nice day.\",\n",
    "        \"name\": \"I'm Guggulr's assistant chatbot.\",\n",
    "        \"order details\": \"Give me order details\",\n",
    "        \"delivery\": \"Product is in transit and will be delivered shortly or you can call the customer support executive for more assistance.\",\n",
    "        \"quality\": \"Send us an image of the product quality issues.\",\n",
    "        \"package\": \"Send us tampered seal pics, we will help you out to resolve the issue.\",\n",
    "        \"cancellation\": \"Tell us the reason for cancellation so that we can help you out.\",\n",
    "        \"agent\": \"Please wait, we will connect you to the delivery agent at +91-9884977538.\",\n",
    "        \"modify\": \"Please wait, we will connect you to a customer agent for modification in your order items.\"\n",
    "    }\n",
    "    msg = msg.lower()\n",
    "    for key in responses:\n",
    "        if key in msg:\n",
    "            return responses[key]\n",
    "    return \"Sorry, I didn't understand that.\"\n",
    "\n",
    "# Message handler\n",
    "def handle_message(msg):\n",
    "    response = get_response(msg)\n",
    "    with chat_output:\n",
    "        print(f\"👤 You: {msg}\")\n",
    "        print(f\"🤖 Bot: {response}\")\n",
    "\n",
    "# Button click handler\n",
    "def on_button_click(b):\n",
    "    handle_message(b.description.lower())\n",
    "\n",
    "# Submit button handler\n",
    "def on_submit_click(b):\n",
    "    msg = text_input.value.strip()\n",
    "    if msg:\n",
    "        handle_message(msg)\n",
    "        text_input.value = \"\"\n",
    "\n",
    "# Clear handler\n",
    "def on_clear_click(b):\n",
    "    chat_output.clear_output()\n",
    "\n",
    "# Link handlers\n",
    "for button in buttons:\n",
    "    button.on_click(on_button_click)\n",
    "\n",
    "submit_button.on_click(on_submit_click)\n",
    "clear_button.on_click(on_clear_click)\n",
    "\n",
    "# Layout\n",
    "title = widgets.HTML(\"<h2 style='color:darkblue;'>💬 Chatbox</h2>\")\n",
    "text_input_box = widgets.HBox([text_input, submit_button])\n",
    "button_box = widgets.HBox(buttons)\n",
    "ui = widgets.VBox([title, chat_output, button_box, text_input_box, clear_button])\n",
    "\n",
    "display(ui)\n"
   ]
  },
  {
   "cell_type": "code",
   "execution_count": null,
   "id": "1eb4c387-62ab-4823-a3d9-2ee4a0be31f3",
   "metadata": {},
   "outputs": [],
   "source": []
  }
 ],
 "metadata": {
  "kernelspec": {
   "display_name": "Python 3 (ipykernel)",
   "language": "python",
   "name": "python3"
  },
  "language_info": {
   "codemirror_mode": {
    "name": "ipython",
    "version": 3
   },
   "file_extension": ".py",
   "mimetype": "text/x-python",
   "name": "python",
   "nbconvert_exporter": "python",
   "pygments_lexer": "ipython3",
   "version": "3.10.18"
  }
 },
 "nbformat": 4,
 "nbformat_minor": 5
}
