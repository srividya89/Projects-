{
 "cells": [
  {
   "cell_type": "markdown",
   "id": "541e65fa-dd16-42ed-99ba-f422ca136e1e",
   "metadata": {},
   "source": [
    "What is ipywidgets? ipywidgets (short for IPython widgets) is a Python library that lets you create interactive GUI elements like sliders, buttons, dropdowns, checkboxes, and more in Jupyter Notebooks or JupyterLab.\n",
    "\n",
    "It enables interactive data exploration and user input, making notebooks more like apps.\n",
    "\n",
    "Key Features: Create interactive UIs without writing JavaScript.\n",
    "\n",
    "React to user input using @interact or widget callbacks.\n",
    "\n",
    "Useful in data science, ML model tuning, and visualizations."
   ]
  },
  {
   "cell_type": "code",
   "execution_count": 1,
   "id": "4fe80577-19c6-4525-8820-8e407662d8d8",
   "metadata": {},
   "outputs": [
    {
     "name": "stdout",
     "output_type": "stream",
     "text": [
      "Requirement already satisfied: ipywidgets in c:\\users\\welcome\\anaconda3\\envs\\myenv\\lib\\site-packages (8.1.7)\n",
      "Requirement already satisfied: comm>=0.1.3 in c:\\users\\welcome\\anaconda3\\envs\\myenv\\lib\\site-packages (from ipywidgets) (0.2.1)\n",
      "Requirement already satisfied: ipython>=6.1.0 in c:\\users\\welcome\\anaconda3\\envs\\myenv\\lib\\site-packages (from ipywidgets) (8.30.0)\n",
      "Requirement already satisfied: traitlets>=4.3.1 in c:\\users\\welcome\\anaconda3\\envs\\myenv\\lib\\site-packages (from ipywidgets) (5.14.3)\n",
      "Requirement already satisfied: widgetsnbextension~=4.0.14 in c:\\users\\welcome\\anaconda3\\envs\\myenv\\lib\\site-packages (from ipywidgets) (4.0.14)\n",
      "Requirement already satisfied: jupyterlab_widgets~=3.0.15 in c:\\users\\welcome\\anaconda3\\envs\\myenv\\lib\\site-packages (from ipywidgets) (3.0.15)\n",
      "Requirement already satisfied: decorator in c:\\users\\welcome\\anaconda3\\envs\\myenv\\lib\\site-packages (from ipython>=6.1.0->ipywidgets) (5.1.1)\n",
      "Requirement already satisfied: jedi>=0.16 in c:\\users\\welcome\\anaconda3\\envs\\myenv\\lib\\site-packages (from ipython>=6.1.0->ipywidgets) (0.19.2)\n",
      "Requirement already satisfied: matplotlib-inline in c:\\users\\welcome\\anaconda3\\envs\\myenv\\lib\\site-packages (from ipython>=6.1.0->ipywidgets) (0.1.6)\n",
      "Requirement already satisfied: prompt-toolkit<3.1.0,>=3.0.41 in c:\\users\\welcome\\anaconda3\\envs\\myenv\\lib\\site-packages (from ipython>=6.1.0->ipywidgets) (3.0.43)\n",
      "Requirement already satisfied: pygments>=2.4.0 in c:\\users\\welcome\\anaconda3\\envs\\myenv\\lib\\site-packages (from ipython>=6.1.0->ipywidgets) (2.19.1)\n",
      "Requirement already satisfied: stack-data in c:\\users\\welcome\\anaconda3\\envs\\myenv\\lib\\site-packages (from ipython>=6.1.0->ipywidgets) (0.2.0)\n",
      "Requirement already satisfied: exceptiongroup in c:\\users\\welcome\\anaconda3\\envs\\myenv\\lib\\site-packages (from ipython>=6.1.0->ipywidgets) (1.2.0)\n",
      "Requirement already satisfied: typing-extensions>=4.6 in c:\\users\\welcome\\anaconda3\\envs\\myenv\\lib\\site-packages (from ipython>=6.1.0->ipywidgets) (4.12.2)\n",
      "Requirement already satisfied: colorama in c:\\users\\welcome\\anaconda3\\envs\\myenv\\lib\\site-packages (from ipython>=6.1.0->ipywidgets) (0.4.6)\n",
      "Requirement already satisfied: wcwidth in c:\\users\\welcome\\anaconda3\\envs\\myenv\\lib\\site-packages (from prompt-toolkit<3.1.0,>=3.0.41->ipython>=6.1.0->ipywidgets) (0.2.13)\n",
      "Requirement already satisfied: parso<0.9.0,>=0.8.4 in c:\\users\\welcome\\anaconda3\\envs\\myenv\\lib\\site-packages (from jedi>=0.16->ipython>=6.1.0->ipywidgets) (0.8.4)\n",
      "Requirement already satisfied: executing in c:\\users\\welcome\\anaconda3\\envs\\myenv\\lib\\site-packages (from stack-data->ipython>=6.1.0->ipywidgets) (0.8.3)\n",
      "Requirement already satisfied: asttokens in c:\\users\\welcome\\anaconda3\\envs\\myenv\\lib\\site-packages (from stack-data->ipython>=6.1.0->ipywidgets) (3.0.0)\n",
      "Requirement already satisfied: pure-eval in c:\\users\\welcome\\anaconda3\\envs\\myenv\\lib\\site-packages (from stack-data->ipython>=6.1.0->ipywidgets) (0.2.2)\n",
      "Note: you may need to restart the kernel to use updated packages.\n"
     ]
    }
   ],
   "source": [
    "pip install ipywidgets\n"
   ]
  },
  {
   "cell_type": "code",
   "execution_count": 2,
   "id": "888e7739-bc75-423c-a3a3-14f17ca0bac3",
   "metadata": {},
   "outputs": [
    {
     "data": {
      "application/vnd.jupyter.widget-view+json": {
       "model_id": "6bd26b6503924772acaf8a7f92793f87",
       "version_major": 2,
       "version_minor": 0
      },
      "text/plain": [
       "IntSlider(value=50, step=5)"
      ]
     },
     "metadata": {},
     "output_type": "display_data"
    }
   ],
   "source": [
    "#Basic Example:\n",
    "import ipywidgets as widgets\n",
    "from IPython.display import display\n",
    "\n",
    "slider = widgets.IntSlider(min=0, max=100, step=5, value=50)\n",
    "display(slider)\n"
   ]
  },
  {
   "cell_type": "markdown",
   "id": "8947128f-ec9d-422e-ad7a-0238540e5035",
   "metadata": {},
   "source": [
    "This shows a slider. You can access its value like:"
   ]
  },
  {
   "cell_type": "code",
   "execution_count": 3,
   "id": "5ec15e7b-807e-4348-bf16-4b28e4bde0e0",
   "metadata": {},
   "outputs": [
    {
     "data": {
      "text/plain": [
       "0"
      ]
     },
     "execution_count": 3,
     "metadata": {},
     "output_type": "execute_result"
    }
   ],
   "source": [
    "slider.value"
   ]
  },
  {
   "cell_type": "code",
   "execution_count": 4,
   "id": "030cbe1c-7336-4ee3-8324-376b2c7659c3",
   "metadata": {},
   "outputs": [
    {
     "data": {
      "application/vnd.jupyter.widget-view+json": {
       "model_id": "544f6c7ece65468293ecd804faa50008",
       "version_major": 2,
       "version_minor": 0
      },
      "text/plain": [
       "interactive(children=(Text(value='Srividya', description='name'), IntSlider(value=55, description='age', min=1…"
      ]
     },
     "metadata": {},
     "output_type": "display_data"
    },
    {
     "data": {
      "text/plain": [
       "<function __main__.greet(name, age)>"
      ]
     },
     "execution_count": 4,
     "metadata": {},
     "output_type": "execute_result"
    }
   ],
   "source": [
    "#Interactive Function with @interact:\n",
    "from ipywidgets import interact\n",
    "\n",
    "def greet(name, age):\n",
    "    print(f\"Hello {name}, you are {age} years old!\")\n",
    "\n",
    "interact(greet, name=\"Srividya\", age=(10, 100))\n",
    "#You’ll get a text box and a slider for input."
   ]
  },
  {
   "cell_type": "markdown",
   "id": "8f889bfd-668c-4330-a663-42d689523a76",
   "metadata": {},
   "source": [
    "| Widget        | Description       |\n",
    "| ------------- | ----------------- |\n",
    "| `IntSlider`   | Integer slider    |\n",
    "| `FloatSlider` | Float slider      |\n",
    "| `Dropdown`    | Drop-down menu    |\n",
    "| `Text`        | Text input        |\n",
    "| `Button`      | Clickable button  |\n",
    "| `Checkbox`    | True/False toggle |\n",
    "| `FileUpload`  | Upload files      |\n"
   ]
  },
  {
   "cell_type": "markdown",
   "id": "7950addc-7d27-4736-8431-0b1018406b98",
   "metadata": {},
   "source": [
    "Here's a mini interactive app using ipywidgets + matplotlib to visualize the Iris dataset and allow dynamic feature selection and plotting.\n",
    "\n"
   ]
  },
  {
   "cell_type": "code",
   "execution_count": 5,
   "id": "590ddf47-142d-4345-a659-a967f9a97a39",
   "metadata": {},
   "outputs": [],
   "source": [
    "import matplotlib.pyplot as plt\n",
    "import seaborn as sns\n",
    "from sklearn.datasets import load_iris\n",
    "import pandas as pd\n",
    "import ipywidgets as widgets\n",
    "from IPython.display import display, clear_output\n",
    "\n",
    "# Load Iris dataset\n",
    "iris = load_iris()\n",
    "df = pd.DataFrame(iris.data, columns=iris.feature_names)\n",
    "df['species'] = pd.Categorical.from_codes(iris.target, iris.target_names)\n",
    "\n",
    "# Widget selectors\n",
    "x_dropdown = widgets.Dropdown(options=iris.feature_names, value=iris.feature_names[0], description='X-axis:')\n",
    "y_dropdown = widgets.Dropdown(options=iris.feature_names, value=iris.feature_names[1], description='Y-axis:')\n",
    "color_checkbox = widgets.Checkbox(value=True, description=\"Color by species\")\n",
    "output = widgets.Output()\n"
   ]
  },
  {
   "cell_type": "code",
   "execution_count": 6,
   "id": "e2fa4e22-ceda-41d1-9b93-ef621e6c6284",
   "metadata": {},
   "outputs": [],
   "source": [
    "# Update plot function\n",
    "def update_plot(change=None):\n",
    "    with output:\n",
    "        clear_output(wait=True)\n",
    "        plt.figure(figsize=(6, 4))\n",
    "        if color_checkbox.value:\n",
    "            sns.scatterplot(data=df, x=x_dropdown.value, y=y_dropdown.value, hue='species', palette='Set2')\n",
    "        else:\n",
    "            sns.scatterplot(data=df, x=x_dropdown.value, y=y_dropdown.value, color='blue')\n",
    "        plt.title('Iris Feature Plot')\n",
    "        plt.grid(True)\n",
    "        plt.tight_layout()\n",
    "        plt.show()\n"
   ]
  },
  {
   "cell_type": "code",
   "execution_count": 7,
   "id": "bd9ef7bc-4b63-49b9-859c-957631560834",
   "metadata": {},
   "outputs": [],
   "source": [
    "# Attach events\n",
    "x_dropdown.observe(update_plot, names='value')\n",
    "y_dropdown.observe(update_plot, names='value')\n",
    "color_checkbox.observe(update_plot, names='value')\n"
   ]
  },
  {
   "cell_type": "code",
   "execution_count": 8,
   "id": "076c55e4-5dca-43a1-8028-32c65bcd04ab",
   "metadata": {},
   "outputs": [
    {
     "data": {
      "application/vnd.jupyter.widget-view+json": {
       "model_id": "29ec1e8d4b9e414ea7afdcde21e440e8",
       "version_major": 2,
       "version_minor": 0
      },
      "text/plain": [
       "HBox(children=(Dropdown(description='X-axis:', options=('sepal length (cm)', 'sepal width (cm)', 'petal length…"
      ]
     },
     "metadata": {},
     "output_type": "display_data"
    },
    {
     "data": {
      "application/vnd.jupyter.widget-view+json": {
       "model_id": "2a7f14be5725449db39267cda5cee893",
       "version_major": 2,
       "version_minor": 0
      },
      "text/plain": [
       "Output()"
      ]
     },
     "metadata": {},
     "output_type": "display_data"
    }
   ],
   "source": [
    "# Display widgets and initial plot\n",
    "display(widgets.HBox([x_dropdown, y_dropdown, color_checkbox]))\n",
    "display(output)\n",
    "update_plot()\n"
   ]
  },
  {
   "cell_type": "code",
   "execution_count": null,
   "id": "f9e98586-2468-424a-a2a5-73b93ecf63f0",
   "metadata": {},
   "outputs": [],
   "source": []
  }
 ],
 "metadata": {
  "kernelspec": {
   "display_name": "Python 3 (ipykernel)",
   "language": "python",
   "name": "python3"
  },
  "language_info": {
   "codemirror_mode": {
    "name": "ipython",
    "version": 3
   },
   "file_extension": ".py",
   "mimetype": "text/x-python",
   "name": "python",
   "nbconvert_exporter": "python",
   "pygments_lexer": "ipython3",
   "version": "3.10.18"
  }
 },
 "nbformat": 4,
 "nbformat_minor": 5
}
